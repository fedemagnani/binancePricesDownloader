{
 "cells": [
  {
   "cell_type": "code",
   "execution_count": 93,
   "metadata": {},
   "outputs": [
    {
     "name": "stdout",
     "output_type": "stream",
     "text": [
      "Requirement already satisfied: tqdm in c:\\users\\fedem\\appdata\\local\\programs\\python\\python39\\lib\\site-packages (4.62.3)\n",
      "Requirement already satisfied: colorama in c:\\users\\fedem\\appdata\\roaming\\python\\python39\\site-packages (from tqdm) (0.4.4)\n"
     ]
    },
    {
     "name": "stderr",
     "output_type": "stream",
     "text": [
      "WARNING: You are using pip version 22.0.3; however, version 22.0.4 is available.\n",
      "You should consider upgrading via the 'c:\\users\\fedem\\appdata\\local\\programs\\python\\python39\\python.exe -m pip install --upgrade pip' command.\n"
     ]
    }
   ],
   "source": [
    "import requests\n",
    "import numpy as np\n",
    "import json\n",
    "import pandas as pd\n",
    "!pip install tqdm\n",
    "from tqdm import tqdm\n",
    "import time\n",
    "from datetime import datetime"
   ]
  },
  {
   "cell_type": "code",
   "execution_count": 99,
   "metadata": {},
   "outputs": [],
   "source": [
    "quote = \"USDT\" #pairs will be expressed in the value of this token, case sensitive!\n",
    "destinationAllPairs = f\"AllTargets_{quote}.csv\" # here we will save all the pairs BASE/QUOTE\n",
    "timeframe =\"1d\" #1m 3m 5m 15m 30m 1h 2h 4h 6h 8h 12h 1d 3d 1w 1M\n",
    "destinationHistoryRaw = f\"History_Assets_{quote}_{timeframe}_RAW.csv\"\n",
    "destinationHistoryClean = f\"History_Assets_{quote}_{timeframe}_Close_CLEAN.csv\"\n",
    "sleepingSeconds = 0.3 #amount of time from one request to the other (to prevent rate-limit)"
   ]
  },
  {
   "cell_type": "code",
   "execution_count": 53,
   "metadata": {},
   "outputs": [],
   "source": [
    "#Getting all the pairs BASE/QUOTE\n",
    "url = \"https://api.binance.com/api/v1/exchangeInfo\"\n",
    "payload={}\n",
    "headers = {}\n",
    "response = requests.request(\"GET\", url, headers=headers, data=payload) #we ask binance general info \n",
    "symbols = json.loads(response.text)[\"symbols\"] #among general info we fetch the symbols \n",
    "#among symbols we take those that trade with our quote asset and are tradable\n",
    "pairs = list(filter(lambda x: x[\"status\"]==\"TRADING\" and x[\"quoteAsset\"]==quote , symbols))\n",
    "dataset = pd.DataFrame(pairs)\n",
    "dataset.to_csv(destinationAllPairs)"
   ]
  },
  {
   "cell_type": "code",
   "execution_count": 80,
   "metadata": {},
   "outputs": [
    {
     "name": "stderr",
     "output_type": "stream",
     "text": [
      "100%|██████████| 339/339 [04:07<00:00,  1.37it/s]\n"
     ]
    }
   ],
   "source": [
    "#we get access to the previously saved all pairs\n",
    "df = pd.read_csv (destinationAllPairs)\n",
    "df.symbol\n",
    "datasetHistory = pd.DataFrame()\n",
    "\n",
    "for i in tqdm(range(len(df.symbol))):\n",
    "    pair = df.symbol[i]\n",
    "    url= f\"https://api.binance.com/api/v3/klines?symbol={pair}&interval={timeframe}&limit=1000\"\n",
    "    payload={}\n",
    "    headers = {}\n",
    "    response = requests.request(\"GET\", url, headers=headers, data=payload) #we ask binance general info \n",
    "    #Recall that the response structure is the following (EXAMPLE)\n",
    "    #   [\n",
    "    #     1499040000000,      // Open time\n",
    "    #     \"0.01634790\",       // Open\n",
    "    #     \"0.80000000\",       // High\n",
    "    #     \"0.01575800\",       // Low\n",
    "    #     \"0.01577100\",       // Close\n",
    "    #     \"148976.11427815\",  // Volume\n",
    "    #     1499644799999,      // Close time\n",
    "    #     \"2434.19055334\",    // Quote asset volume\n",
    "    #     308,                // Number of trades\n",
    "    #     \"1756.87402397\",    // Taker buy base asset volume\n",
    "    #     \"28.46694368\",      // Taker buy quote asset volume\n",
    "    #     \"17928899.62484339\" // Ignore.\n",
    "    #   ]\n",
    "    #Each row of this dataset will correspond to this information at given time t, for all the considered pairs \n",
    "    datasetHistory[pair]=pd.Series(list(json.loads(response.text)[::-1]))\n",
    "    #rows that are missing will be replaced by NaN\n",
    "    #Most recent data will be in the first row, so that we have time-homogeneity \n",
    "    #Consider that the first row corresponds to the current market value! it might change if you rebuild the dataset within the same period\n",
    "    time.sleep(sleepingSeconds)\n",
    "    \n",
    "datasetHistory.to_csv(destinationHistoryRaw)"
   ]
  },
  {
   "cell_type": "code",
   "execution_count": 100,
   "metadata": {},
   "outputs": [
    {
     "name": "stderr",
     "output_type": "stream",
     "text": [
      "100%|██████████| 339/339 [00:00<00:00, 2337.87it/s]\n"
     ]
    }
   ],
   "source": [
    "#we clean the dataset indexing rows through timestamps and taking just the close values of the candlestick values \n",
    "#We get all the seventh elements of the arrays in the first column (they correspond to timestamps)\n",
    "#We also set timestamps in readable format\n",
    "timestamps = pd.to_datetime([ x[0]*1000000 for x in datasetHistory.iloc[:,0]])\n",
    "timestamps \n",
    "cleanDatasetHistory = pd.DataFrame(index=timestamps, columns=datasetHistory.columns)\n",
    "#Now, for each column, we extract the fifth value of the array, which is the close value of the candle\n",
    "#If the result is NaN, we return zero\n",
    "for i in tqdm(range(len(cleanDatasetHistory.columns))):\n",
    "    cleanDatasetHistory[cleanDatasetHistory.columns[i]]=[ x[4] if type(x)==type([]) else 0 for x in datasetHistory.iloc[:,i]]\n",
    "cleanDatasetHistory.to_csv(destinationHistoryClean)"
   ]
  }
 ],
 "metadata": {
  "interpreter": {
   "hash": "5e6a6d14ff3a100bebb43f7e9f18979645ba75d0c86b782ba6a75e579f2e32f1"
  },
  "kernelspec": {
   "display_name": "Python 3.9.6 64-bit",
   "language": "python",
   "name": "python3"
  },
  "language_info": {
   "codemirror_mode": {
    "name": "ipython",
    "version": 3
   },
   "file_extension": ".py",
   "mimetype": "text/x-python",
   "name": "python",
   "nbconvert_exporter": "python",
   "pygments_lexer": "ipython3",
   "version": "3.9.6"
  },
  "orig_nbformat": 4
 },
 "nbformat": 4,
 "nbformat_minor": 2
}
